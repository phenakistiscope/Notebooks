{
 "cells": [
  {
   "cell_type": "markdown",
   "id": "2e8de2c0-d229-4728-aa23-aab0ab472600",
   "metadata": {},
   "source": [
    "# Notebook pour la baseline de classification des affiches de cinéma\n",
    "\n",
    "**Ce Notebook sert de baseline pour la classification d'affiches de cinéma, pour le colloque Humanistica (Genève, 2022)**\n",
    "\n",
    "*Plan du Notebook*\n",
    "\n",
    "> Importer les données\n",
    "\n",
    "> Charger et appliquer le modèle\n",
    "\n",
    "> Enregistrer les métriques"
   ]
  },
  {
   "cell_type": "code",
   "execution_count": null,
   "id": "fcceb8db-adb6-4418-b740-116fcabfad5a",
   "metadata": {},
   "outputs": [],
   "source": [
    "import numpy as np\n",
    "import keras\n",
    "from keras.models import Sequential\n",
    "from keras.layers import Conv2D, MaxPooling2D, Flatten, Dense\n",
    "from keras.preprocessing.image import ImageDataGenerator\n",
    "from keras.preprocessing import image\n",
    "from sklearn.metrics import f1_score\n",
    "from tensorflow.keras.metrics import Precision, Recall\n",
    "%pip install tensorflow_addons\n",
    "import tensorflow_addons as tfa\n",
    "from tensorflow_addons.metrics import F1Score"
   ]
  },
  {
   "cell_type": "markdown",
   "id": "5a5bd7be-31df-44e9-9066-275a157ea522",
   "metadata": {},
   "source": [
    "## Importer les données"
   ]
  },
  {
   "cell_type": "code",
   "execution_count": null,
   "id": "c4c55ca4-4e8c-4f6b-b1b3-82d28057b703",
   "metadata": {},
   "outputs": [],
   "source": [
    "# Dimensions des images d'entrée\n",
    "image_width, image_height = 128, 128\n",
    "\n",
    "# Chemins d'accès vers les données d'entraînement, de validation et de test\n",
    "train_data_dir = \"\"\n",
    "validation_data_dir = \"\"\n",
    "test_data_dir = \"\""
   ]
  },
  {
   "cell_type": "code",
   "execution_count": null,
   "id": "219e5b74-ca0e-4348-bba8-41dcbb9e3c5c",
   "metadata": {},
   "outputs": [],
   "source": [
    "# Prétraitement des images\n",
    "train_data_generator = ImageDataGenerator(rescale=1./255, shear_range=0.2, zoom_range=0.2, horizontal_flip=True)\n",
    "validation_data_generator = ImageDataGenerator(rescale=1./255)\n",
    "test_data_generator = ImageDataGenerator(rescale=1./255)\n",
    "\n",
    "# Chargement des données d'entraînement\n",
    "train_generator = train_data_generator.flow_from_directory(train_data_dir, target_size=(image_width, image_height), batch_size=32, class_mode='categorical', shuffle=True, seed=42)\n",
    "# Chargement des données de validation\n",
    "validation_generator = validation_data_generator.flow_from_directory(validation_data_dir, target_size=(image_width, image_height), batch_size=32, class_mode='categorical', shuffle=True, seed=42)\n",
    "# Chargement des données de test\n",
    "test_generator = test_data_generator.flow_from_directory(test_data_dir, target_size=(image_width, image_height), batch_size=32, class_mode='categorical', shuffle=True, seed=42)"
   ]
  },
  {
   "cell_type": "markdown",
   "id": "ad9f5320-932f-4786-a9da-258f08be11ba",
   "metadata": {},
   "source": [
    "## Charger et appliquer le modèle"
   ]
  },
  {
   "cell_type": "code",
   "execution_count": null,
   "id": "3432032f-8116-42a9-8196-7742468970c6",
   "metadata": {},
   "outputs": [],
   "source": [
    "# Création du modèle CNN\n",
    "model = Sequential()\n",
    "model.add(Conv2D(32, (3, 3), activation='relu', input_shape=(image_width, image_height, 3)))\n",
    "model.add(MaxPooling2D(pool_size=(2, 2)))\n",
    "model.add(Conv2D(64, (3, 3), activation='relu'))\n",
    "model.add(MaxPooling2D(pool_size=(2, 2)))\n",
    "model.add(Conv2D(128, (3, 3), activation='relu'))\n",
    "model.add(MaxPooling2D(pool_size=(2, 2)))\n",
    "model.add(Flatten())\n",
    "model.add(Dense(128, activation='relu'))\n",
    "model.add(Dense(3, activation='softmax'))"
   ]
  },
  {
   "cell_type": "code",
   "execution_count": null,
   "id": "bd91ddc8-f74a-4b8b-b19e-69b062135f16",
   "metadata": {},
   "outputs": [],
   "source": [
    "# Compilation du modèle\n",
    "model.compile(loss='categorical_crossentropy', optimizer='adam', metrics=['accuracy', Precision(), Recall(), F1Score(num_classes=3)])"
   ]
  },
  {
   "cell_type": "code",
   "execution_count": null,
   "id": "5916c7ae-4d0b-4c32-97ac-4545c61e30ef",
   "metadata": {},
   "outputs": [],
   "source": [
    "# Entraînement du modèle\n",
    "epochs = 10\n",
    "model.fit_generator(train_generator, steps_per_epoch=len(train_generator), epochs=epochs, validation_data=validation_generator, validation_steps=len(validation_generator))"
   ]
  },
  {
   "cell_type": "markdown",
   "id": "fa3ff6c2-affc-42bb-8e92-1949e3ae3d2c",
   "metadata": {},
   "source": [
    "## Enregistrer les métriques"
   ]
  },
  {
   "cell_type": "code",
   "execution_count": null,
   "id": "e44e327b-ba40-467f-9c85-7d0095a016f2",
   "metadata": {},
   "outputs": [],
   "source": [
    "# Évaluation du modèle sur les données de test\n",
    "results = model.evaluate(test_generator, steps=len(test_generator))\n",
    "print(\"test loss, test acc:\", results)"
   ]
  },
  {
   "cell_type": "code",
   "execution_count": null,
   "id": "55af7698-6052-4fbb-a405-d34717caffe8",
   "metadata": {},
   "outputs": [],
   "source": [
    "# enregistrer\n",
    "\n",
    "# Création du dictionnaire\n",
    "data = {\n",
    "    'model': nom_du_model,\n",
    "    'test_loss': results[0],\n",
    "    'test_accuracy': results[1],\n",
    "    'test_precision': results[2],\n",
    "    'test_recall': results[3],\n",
    "    'test_f1_score': results[4],\n",
    "}\n",
    "\n",
    "# Conversion du dictionnaire en DataFrame\n",
    "df = pd.DataFrame(data)\n",
    "\n",
    "# Enregistrement du DataFrame dans un fichier CSV\n",
    "df.to_csv(f'test_mesures_{nom_du_model}.csv')"
   ]
  }
 ],
 "metadata": {
  "kernelspec": {
   "display_name": "Python 3",
   "language": "python",
   "name": "python3"
  },
  "language_info": {
   "codemirror_mode": {
    "name": "ipython",
    "version": 3
   },
   "file_extension": ".py",
   "mimetype": "text/x-python",
   "name": "python",
   "nbconvert_exporter": "python",
   "pygments_lexer": "ipython3",
   "version": "3.8.8"
  }
 },
 "nbformat": 4,
 "nbformat_minor": 5
}
